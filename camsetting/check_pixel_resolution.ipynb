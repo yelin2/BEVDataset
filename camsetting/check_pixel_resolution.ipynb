{
 "cells": [
  {
   "cell_type": "code",
   "execution_count": 14,
   "source": [
    "import numpy as np\n",
    "import glob\n",
    "import cv2\n",
    "import torch\n",
    "import random\n",
    "from PIL import Image\n",
    "import os\n",
    "from resolution_pixel_cal import __getitem__"
   ],
   "outputs": [],
   "metadata": {}
  },
  {
   "cell_type": "code",
   "execution_count": 15,
   "source": [
    "object_num_b = 0\n",
    "\n",
    "x_min_b = 1000\n",
    "y_min_b = 1000\n",
    "\n",
    "x_max_b = 0\n",
    "y_max_b = 0\n",
    "\n",
    "sum_x_b = 0\n",
    "sum_y_b = 0\n",
    "\n",
    "object_num_r = 0\n",
    "\n",
    "x_min_r = 1000\n",
    "y_min_r = 1000\n",
    "\n",
    "x_max_r = 0\n",
    "y_max_r = 0\n",
    "\n",
    "sum_x_r = 0\n",
    "sum_y_r = 0"
   ],
   "outputs": [],
   "metadata": {}
  },
  {
   "cell_type": "code",
   "execution_count": 26,
   "source": [
    "res = 1/4\n",
    "res_path = \"./1_4_resolution/\"\n",
    "# files = glob.glob('./vehicle_bbox/*.txt')\n",
    "img_files = glob.glob('./30m/out_rgb_bbox_vehicle/*.png')\n",
    "\n",
    "# files = glob.glob('./walker_bbox/*.txt')\n",
    "\n",
    "image_num = len(img_files)\n",
    "\n",
    "print(image_num)"
   ],
   "outputs": [
    {
     "output_type": "stream",
     "name": "stdout",
     "text": [
      "263\n"
     ]
    }
   ],
   "metadata": {}
  },
  {
   "cell_type": "code",
   "execution_count": 27,
   "source": [
    "for i in range(len(img_files)):\n",
    "    \n",
    "    data, r_data, image = __getitem__(i, res, img_files)\n",
    "\n",
    "    # # ----- image save ------- #\n",
    "    # cv2.imwrite(os.path.join(res_path+str(i)+\".png\"), image)\n",
    "\n",
    "    object_num_b += len(data)\n",
    "    for i in range(len(data)):\n",
    "        x = abs(abs(data[i][1][0]) - abs(data[i][0][0]))\n",
    "        y = abs(abs(data[i][1][1]) - abs(data[i][0][1]))\n",
    "        \n",
    "        sum_x_b += x\n",
    "        sum_y_b += y\n",
    "\n",
    "        if x < x_min_b:\n",
    "            x_min_b = x\n",
    "\n",
    "        if y < y_min_b:\n",
    "            y_min_b = y\n",
    "\n",
    "        if x > x_max_b:\n",
    "            x_max_b = x\n",
    "\n",
    "        if y > y_max_b:\n",
    "            y_max_b = y\n",
    "    \n",
    "\n",
    "    object_num_r += len(r_data)\n",
    "    for i in range(len(r_data)):\n",
    "        x = abs(abs(r_data[i][1][0]) - abs(r_data[i][0][0]))\n",
    "        y = abs(abs(r_data[i][1][1]) - abs(r_data[i][0][1]))\n",
    "        \n",
    "        sum_x_r += x\n",
    "        sum_y_r += y\n",
    "\n",
    "        if x < x_min_r:\n",
    "            x_min_r = x\n",
    "\n",
    "        if y < y_min_r:\n",
    "            y_min_r = y\n",
    "\n",
    "        if x > x_max_r:\n",
    "            x_max_r = x\n",
    "\n",
    "        if y > y_max_r:\n",
    "            y_max_r = y\n"
   ],
   "outputs": [],
   "metadata": {}
  },
  {
   "cell_type": "markdown",
   "source": [
    "# 85m 1/4"
   ],
   "metadata": {}
  },
  {
   "cell_type": "code",
   "execution_count": 22,
   "source": [
    "print(\"resolution:\", res, \"size:\", int(964*res),\"x\",int(964*res) )\n",
    "print(\"number of images:\",image_num)\n",
    "print(\"-------------min max-------------\")\n",
    "\n",
    "\n",
    "print(\"bboxes min x, min y:\", x_min_b,\",\", y_min_b)\n",
    "print(\"bboxes max x, max y:\", x_max_b, \",\", y_max_b)\n",
    "\n",
    "print(\"removed min x, min y:\", x_min_r,\",\",  y_min_r)\n",
    "print(\"removed max x, max y:\", x_max_r,\",\",  y_max_r)\n",
    "\n",
    "print(\"\\n-------------only bboxes-------------\")\n",
    "print(\"average\",object_num_b, \"objects x,y:\",sum_x_b/object_num_b,\",\", sum_y_b/object_num_b)\n",
    "\n",
    "print(\"\\n-------------including removed-------------\")\n",
    "print(\"average\",object_num_r + object_num_b, \"objects x,y:\",(sum_x_b+ sum_x_r)/(object_num_r+object_num_b) ,\",\", (sum_y_b+ sum_y_r)/(object_num_r+ object_num_b),\"\\n\" )\n"
   ],
   "outputs": [
    {
     "output_type": "stream",
     "name": "stdout",
     "text": [
      "resolution: 0.25 size: 241 x 241\n",
      "number of images: 2865\n",
      "-------------min max-------------\n",
      "bboxes min x, min y: 1.0157634004465592 , 1.0384752603640237\n",
      "bboxes max x, max y: 39.45937276530364 , 51.014436949628774\n",
      "removed min x, min y: 0.016808704865262758 , 0.022834328817550542\n",
      "removed max x, max y: 757.0411547918429 , 184.15604543677256\n",
      "\n",
      "-------------only bboxes-------------\n",
      "average 26973 objects x,y: 9.009371491145966 , 12.083382755401681\n",
      "\n",
      "-------------including removed-------------\n",
      "average 35581 objects x,y: 9.3626389567756 , 11.990620446708602 \n",
      "\n"
     ]
    }
   ],
   "metadata": {}
  },
  {
   "cell_type": "markdown",
   "source": [
    "# 70m 1/4"
   ],
   "metadata": {}
  },
  {
   "cell_type": "code",
   "execution_count": 25,
   "source": [
    "print(\"resolution:\", res, \"size:\", int(964*res),\"x\",int(964*res) )\n",
    "print(\"resolution:\", res, \"size:\", int(964*res),\"x\",int(964*res) )\n",
    "print(\"number of images:\",image_num)\n",
    "print(\"-------------min max-------------\")\n",
    "\n",
    "\n",
    "print(\"bboxes min x, min y:\", x_min_b,\",\", y_min_b)\n",
    "print(\"bboxes max x, max y:\", x_max_b, \",\", y_max_b)\n",
    "\n",
    "print(\"removed min x, min y:\", x_min_r,\",\",  y_min_r)\n",
    "print(\"removed max x, max y:\", x_max_r,\",\",  y_max_r)\n",
    "\n",
    "print(\"\\n-------------only bboxes-------------\")\n",
    "print(\"average\",object_num_b, \"objects x,y:\",sum_x_b/object_num_b,\",\", sum_y_b/object_num_b)\n",
    "\n",
    "print(\"\\n-------------including removed-------------\")\n",
    "print(\"average\",object_num_r + object_num_b, \"objects x,y:\",(sum_x_b+ sum_x_r)/(object_num_r+object_num_b) ,\",\", (sum_y_b+ sum_y_r)/(object_num_r+ object_num_b),\"\\n\" )\n"
   ],
   "outputs": [
    {
     "output_type": "stream",
     "name": "stdout",
     "text": [
      "resolution: 0.25 size: 241 x 241\n",
      "resolution: 0.25 size: 241 x 241\n",
      "number of images: 211\n",
      "-------------min max-------------\n",
      "bboxes min x, min y: 1.0157634004465592 , 1.0384752603640237\n",
      "bboxes max x, max y: 39.45937276530364 , 51.014436949628774\n",
      "removed min x, min y: 0.016808704865262758 , 0.022834328817550542\n",
      "removed max x, max y: 757.0411547918429 , 184.15604543677256\n",
      "\n",
      "-------------only bboxes-------------\n",
      "average 28414 objects x,y: 9.152483248390059 , 12.311882317864951\n",
      "\n",
      "-------------including removed-------------\n",
      "average 37699 objects x,y: 9.509819089755103 , 12.281542046381269 \n",
      "\n"
     ]
    }
   ],
   "metadata": {}
  },
  {
   "cell_type": "markdown",
   "source": [
    "# 50m 1/4"
   ],
   "metadata": {}
  },
  {
   "cell_type": "code",
   "execution_count": 28,
   "source": [
    "print(\"resolution:\", res, \"size:\", int(964*res),\"x\",int(964*res) )\n",
    "print(\"resolution:\", res, \"size:\", int(964*res),\"x\",int(964*res) )\n",
    "print(\"number of images:\",image_num)\n",
    "print(\"-------------min max-------------\")\n",
    "\n",
    "\n",
    "print(\"bboxes min x, min y:\", x_min_b,\",\", y_min_b)\n",
    "print(\"bboxes max x, max y:\", x_max_b, \",\", y_max_b)\n",
    "\n",
    "print(\"removed min x, min y:\", x_min_r,\",\",  y_min_r)\n",
    "print(\"removed max x, max y:\", x_max_r,\",\",  y_max_r)\n",
    "\n",
    "print(\"\\n-------------only bboxes-------------\")\n",
    "print(\"average\",object_num_b, \"objects x,y:\",sum_x_b/object_num_b,\",\", sum_y_b/object_num_b)\n",
    "\n",
    "print(\"\\n-------------including removed-------------\")\n",
    "print(\"average\",object_num_r + object_num_b, \"objects x,y:\",(sum_x_b+ sum_x_r)/(object_num_r+object_num_b) ,\",\", (sum_y_b+ sum_y_r)/(object_num_r+ object_num_b),\"\\n\" )\n"
   ],
   "outputs": [
    {
     "output_type": "stream",
     "name": "stdout",
     "text": [
      "resolution: 0.25 size: 241 x 241\n",
      "resolution: 0.25 size: 241 x 241\n",
      "number of images: 263\n",
      "-------------min max-------------\n",
      "bboxes min x, min y: 1.0157634004465592 , 1.0384752603640237\n",
      "bboxes max x, max y: 52.985644211497274 , 87.74306829903972\n",
      "removed min x, min y: 0.016808704865262758 , 0.022834328817550542\n",
      "removed max x, max y: 757.0411547918429 , 184.15604543677256\n",
      "\n",
      "-------------only bboxes-------------\n",
      "average 30448 objects x,y: 9.511192913485706 , 13.217191507752759\n",
      "\n",
      "-------------including removed-------------\n",
      "average 40557 objects x,y: 9.944030482513599 , 13.39254731099883 \n",
      "\n"
     ]
    }
   ],
   "metadata": {}
  },
  {
   "cell_type": "markdown",
   "source": [
    "# 30m 1/4"
   ],
   "metadata": {}
  },
  {
   "cell_type": "code",
   "execution_count": null,
   "source": [
    "print(\"resolution:\", res, \"size:\", int(964*res),\"x\",int(964*res) )\n",
    "print(\"resolution:\", res, \"size:\", int(964*res),\"x\",int(964*res) )\n",
    "print(\"number of images:\",image_num)\n",
    "print(\"-------------min max-------------\")\n",
    "\n",
    "\n",
    "print(\"bboxes min x, min y:\", x_min_b,\",\", y_min_b)\n",
    "print(\"bboxes max x, max y:\", x_max_b, \",\", y_max_b)\n",
    "\n",
    "print(\"removed min x, min y:\", x_min_r,\",\",  y_min_r)\n",
    "print(\"removed max x, max y:\", x_max_r,\",\",  y_max_r)\n",
    "\n",
    "print(\"\\n-------------only bboxes-------------\")\n",
    "print(\"average\",object_num_b, \"objects x,y:\",sum_x_b/object_num_b,\",\", sum_y_b/object_num_b)\n",
    "\n",
    "print(\"\\n-------------including removed-------------\")\n",
    "print(\"average\",object_num_r + object_num_b, \"objects x,y:\",(sum_x_b+ sum_x_r)/(object_num_r+object_num_b) ,\",\", (sum_y_b+ sum_y_r)/(object_num_r+ object_num_b),\"\\n\" )\n"
   ],
   "outputs": [],
   "metadata": {}
  }
 ],
 "metadata": {
  "orig_nbformat": 4,
  "language_info": {
   "name": "python",
   "version": "3.9.6",
   "mimetype": "text/x-python",
   "codemirror_mode": {
    "name": "ipython",
    "version": 3
   },
   "pygments_lexer": "ipython3",
   "nbconvert_exporter": "python",
   "file_extension": ".py"
  },
  "kernelspec": {
   "name": "python3",
   "display_name": "Python 3.9.6 64-bit ('pytorch': conda)"
  },
  "interpreter": {
   "hash": "76727f2eff96316d6b88d6fd7f1c303bfe321b34582b48e31fd70ecd430eaf77"
  }
 },
 "nbformat": 4,
 "nbformat_minor": 2
}
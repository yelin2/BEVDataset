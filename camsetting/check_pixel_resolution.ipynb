{
 "cells": [
  {
   "cell_type": "code",
   "execution_count": 14,
   "source": [
    "import numpy as np\n",
    "import glob\n",
    "import cv2\n",
    "import torch\n",
    "import random\n",
    "from PIL import Image\n",
    "import os\n",
    "from resolution_pixel_cal import __getitem__"
   ],
   "outputs": [],
   "metadata": {}
  },
  {
   "cell_type": "code",
   "execution_count": 15,
   "source": [
    "object_num_b = 0\n",
    "\n",
    "x_min_b = 1000\n",
    "y_min_b = 1000\n",
    "\n",
    "x_max_b = 0\n",
    "y_max_b = 0\n",
    "\n",
    "sum_x_b = 0\n",
    "sum_y_b = 0\n",
    "\n",
    "object_num_r = 0\n",
    "\n",
    "x_min_r = 1000\n",
    "y_min_r = 1000\n",
    "\n",
    "x_max_r = 0\n",
    "y_max_r = 0\n",
    "\n",
    "sum_x_r = 0\n",
    "sum_y_r = 0"
   ],
   "outputs": [],
   "metadata": {}
  },
  {
   "cell_type": "code",
   "execution_count": 37,
   "source": [
    "res = 1\n",
    "res_path = \"./1_4_resolution/\"\n",
    "# files = glob.glob('./vehicle_bbox/*.txt')\n",
    "img_files = glob.glob('./70m/out_rgb_bbox_vehicle/*.png')\n",
    "\n",
    "# files = glob.glob('./walker_bbox/*.txt')\n",
    "\n",
    "image_num = len(img_files)\n",
    "\n",
    "print(image_num)"
   ],
   "outputs": [
    {
     "output_type": "stream",
     "name": "stdout",
     "text": [
      "211\n"
     ]
    }
   ],
   "metadata": {}
  },
  {
   "cell_type": "code",
   "execution_count": 38,
   "source": [
    "for i in range(len(img_files)):\n",
    "    \n",
    "    data, r_data, image = __getitem__(i, res, img_files)\n",
    "\n",
    "    # # ----- image save ------- #\n",
    "    # cv2.imwrite(os.path.join(res_path+str(i)+\".png\"), image)\n",
    "\n",
    "    object_num_b += len(data)\n",
    "    for i in range(len(data)):\n",
    "        x = abs(abs(data[i][1][0]) - abs(data[i][0][0]))\n",
    "        y = abs(abs(data[i][1][1]) - abs(data[i][0][1]))\n",
    "        \n",
    "        sum_x_b += x\n",
    "        sum_y_b += y\n",
    "\n",
    "        if x < x_min_b:\n",
    "            x_min_b = x\n",
    "\n",
    "        if y < y_min_b:\n",
    "            y_min_b = y\n",
    "\n",
    "        if x > x_max_b:\n",
    "            x_max_b = x\n",
    "\n",
    "        if y > y_max_b:\n",
    "            y_max_b = y\n",
    "    \n",
    "\n",
    "    object_num_r += len(r_data)\n",
    "    for i in range(len(r_data)):\n",
    "        x = abs(abs(r_data[i][1][0]) - abs(r_data[i][0][0]))\n",
    "        y = abs(abs(r_data[i][1][1]) - abs(r_data[i][0][1]))\n",
    "        \n",
    "        sum_x_r += x\n",
    "        sum_y_r += y\n",
    "\n",
    "        if x < x_min_r:\n",
    "            x_min_r = x\n",
    "\n",
    "        if y < y_min_r:\n",
    "            y_min_r = y\n",
    "\n",
    "        if x > x_max_r:\n",
    "            x_max_r = x\n",
    "\n",
    "        if y > y_max_r:\n",
    "            y_max_r = y\n"
   ],
   "outputs": [],
   "metadata": {}
  },
  {
   "cell_type": "markdown",
   "source": [
    "# 85m 1/4"
   ],
   "metadata": {}
  },
  {
   "cell_type": "code",
   "execution_count": 22,
   "source": [
    "print(\"resolution:\", res, \"size:\", int(964*res),\"x\",int(964*res) )\n",
    "print(\"number of images:\",image_num)\n",
    "print(\"-------------min max-------------\")\n",
    "\n",
    "\n",
    "print(\"bboxes min x, min y:\", x_min_b,\",\", y_min_b)\n",
    "print(\"bboxes max x, max y:\", x_max_b, \",\", y_max_b)\n",
    "\n",
    "print(\"removed min x, min y:\", x_min_r,\",\",  y_min_r)\n",
    "print(\"removed max x, max y:\", x_max_r,\",\",  y_max_r)\n",
    "\n",
    "print(\"\\n-------------only bboxes-------------\")\n",
    "print(\"average\",object_num_b, \"objects x,y:\",sum_x_b/object_num_b,\",\", sum_y_b/object_num_b)\n",
    "\n",
    "print(\"\\n-------------including removed-------------\")\n",
    "print(\"average\",object_num_r + object_num_b, \"objects x,y:\",(sum_x_b+ sum_x_r)/(object_num_r+object_num_b) ,\",\", (sum_y_b+ sum_y_r)/(object_num_r+ object_num_b),\"\\n\" )\n"
   ],
   "outputs": [
    {
     "output_type": "stream",
     "name": "stdout",
     "text": [
      "resolution: 0.25 size: 241 x 241\n",
      "number of images: 2865\n",
      "-------------min max-------------\n",
      "bboxes min x, min y: 1.0157634004465592 , 1.0384752603640237\n",
      "bboxes max x, max y: 39.45937276530364 , 51.014436949628774\n",
      "removed min x, min y: 0.016808704865262758 , 0.022834328817550542\n",
      "removed max x, max y: 757.0411547918429 , 184.15604543677256\n",
      "\n",
      "-------------only bboxes-------------\n",
      "average 26973 objects x,y: 9.009371491145966 , 12.083382755401681\n",
      "\n",
      "-------------including removed-------------\n",
      "average 35581 objects x,y: 9.3626389567756 , 11.990620446708602 \n",
      "\n"
     ]
    }
   ],
   "metadata": {}
  },
  {
   "cell_type": "markdown",
   "source": [
    "# 70m"
   ],
   "metadata": {}
  },
  {
   "cell_type": "code",
   "execution_count": null,
   "source": [
    "print(\"resolution:\", res, \"size:\", int(964*res),\"x\",int(964*res) )\n",
    "print(\"resolution:\", res, \"size:\", int(964*res),\"x\",int(964*res) )\n",
    "print(\"number of images:\",image_num)\n",
    "print(\"-------------min max-------------\")\n",
    "\n",
    "\n",
    "print(\"bboxes min x, min y:\", x_min_b,\",\", y_min_b)\n",
    "print(\"bboxes max x, max y:\", x_max_b, \",\", y_max_b)\n",
    "\n",
    "print(\"removed min x, min y:\", x_min_r,\",\",  y_min_r)\n",
    "print(\"removed max x, max y:\", x_max_r,\",\",  y_max_r)\n",
    "\n",
    "print(\"\\n-------------only bboxes-------------\")\n",
    "print(\"average\",object_num_b, \"objects x,y:\",sum_x_b/object_num_b,\",\", sum_y_b/object_num_b)\n",
    "\n",
    "print(\"\\n-------------including removed-------------\")\n",
    "print(\"average\",object_num_r + object_num_b, \"objects x,y:\",(sum_x_b+ sum_x_r)/(object_num_r+object_num_b) ,\",\", (sum_y_b+ sum_y_r)/(object_num_r+ object_num_b),\"\\n\" )\n"
   ],
   "outputs": [],
   "metadata": {}
  },
  {
   "cell_type": "markdown",
   "source": [
    "# 70m 1/32"
   ],
   "metadata": {}
  },
  {
   "cell_type": "markdown",
   "source": [],
   "metadata": {}
  },
  {
   "cell_type": "code",
   "execution_count": 33,
   "source": [
    "print(\"resolution:\", res, \"size:\", int(964*res),\"x\",int(964*res) )\n",
    "print(\"resolution:\", res, \"size:\", int(964*res),\"x\",int(964*res) )\n",
    "print(\"number of images:\",image_num)\n",
    "print(\"-------------min max-------------\")\n",
    "\n",
    "\n",
    "print(\"bboxes min x, min y:\", x_min_b,\",\", y_min_b)\n",
    "print(\"bboxes max x, max y:\", x_max_b, \",\", y_max_b)\n",
    "\n",
    "print(\"removed min x, min y:\", x_min_r,\",\",  y_min_r)\n",
    "print(\"removed max x, max y:\", x_max_r,\",\",  y_max_r)\n",
    "\n",
    "print(\"\\n-------------only bboxes-------------\")\n",
    "print(\"average\",object_num_b, \"objects x,y:\",sum_x_b/object_num_b,\",\", sum_y_b/object_num_b)\n",
    "\n",
    "print(\"\\n-------------including removed-------------\")\n",
    "print(\"average\",object_num_r + object_num_b, \"objects x,y:\",(sum_x_b+ sum_x_r)/(object_num_r+object_num_b) ,\",\", (sum_y_b+ sum_y_r)/(object_num_r+ object_num_b),\"\\n\" )\n"
   ],
   "outputs": [
    {
     "output_type": "stream",
     "name": "stdout",
     "text": [
      "resolution: 0.125 size: 120 x 120\n",
      "resolution: 0.125 size: 120 x 120\n",
      "number of images: 211\n",
      "-------------min max-------------\n",
      "bboxes min x, min y: 0.2014188976757474 , 0.255476978195329\n",
      "bboxes max x, max y: 19.72968638265182 , 25.507218474814387\n",
      "removed min x, min y: 0.02156052534441022 , 0.031098749905658973\n",
      "removed max x, max y: 20.241093673173054 , 29.349616218215644\n",
      "\n",
      "-------------only bboxes-------------\n",
      "average 6779 objects x,y: 2.9330883760776265 , 4.3458744151044675\n",
      "\n",
      "-------------including removed-------------\n",
      "average 10326 objects x,y: 3.068585311468817 , 4.809858866057501 \n",
      "\n"
     ]
    }
   ],
   "metadata": {}
  },
  {
   "cell_type": "markdown",
   "source": [
    " # 70m 1/16"
   ],
   "metadata": {}
  },
  {
   "cell_type": "code",
   "execution_count": 33,
   "source": [
    "print(\"resolution:\", res, \"size:\", int(964*res),\"x\",int(964*res) )\n",
    "print(\"resolution:\", res, \"size:\", int(964*res),\"x\",int(964*res) )\n",
    "print(\"number of images:\",image_num)\n",
    "print(\"-------------min max-------------\")\n",
    "\n",
    "\n",
    "print(\"bboxes min x, min y:\", x_min_b,\",\", y_min_b)\n",
    "print(\"bboxes max x, max y:\", x_max_b, \",\", y_max_b)\n",
    "\n",
    "print(\"removed min x, min y:\", x_min_r,\",\",  y_min_r)\n",
    "print(\"removed max x, max y:\", x_max_r,\",\",  y_max_r)\n",
    "\n",
    "print(\"\\n-------------only bboxes-------------\")\n",
    "print(\"average\",object_num_b, \"objects x,y:\",sum_x_b/object_num_b,\",\", sum_y_b/object_num_b)\n",
    "\n",
    "print(\"\\n-------------including removed-------------\")\n",
    "print(\"average\",object_num_r + object_num_b, \"objects x,y:\",(sum_x_b+ sum_x_r)/(object_num_r+object_num_b) ,\",\", (sum_y_b+ sum_y_r)/(object_num_r+ object_num_b),\"\\n\" )\n"
   ],
   "outputs": [
    {
     "output_type": "stream",
     "name": "stdout",
     "text": [
      "resolution: 0.125 size: 120 x 120\n",
      "resolution: 0.125 size: 120 x 120\n",
      "number of images: 211\n",
      "-------------min max-------------\n",
      "bboxes min x, min y: 0.2014188976757474 , 0.255476978195329\n",
      "bboxes max x, max y: 19.72968638265182 , 25.507218474814387\n",
      "removed min x, min y: 0.02156052534441022 , 0.031098749905658973\n",
      "removed max x, max y: 20.241093673173054 , 29.349616218215644\n",
      "\n",
      "-------------only bboxes-------------\n",
      "average 6779 objects x,y: 2.9330883760776265 , 4.3458744151044675\n",
      "\n",
      "-------------including removed-------------\n",
      "average 10326 objects x,y: 3.068585311468817 , 4.809858866057501 \n",
      "\n"
     ]
    }
   ],
   "metadata": {}
  },
  {
   "cell_type": "markdown",
   "source": [
    "# 1/8 70m"
   ],
   "metadata": {}
  },
  {
   "cell_type": "code",
   "execution_count": 36,
   "source": [
    "print(\"resolution:\", res, \"size:\", int(964*res),\"x\",int(964*res) )\n",
    "print(\"resolution:\", res, \"size:\", int(964*res),\"x\",int(964*res) )\n",
    "print(\"number of images:\",image_num)\n",
    "print(\"-------------min max-------------\")\n",
    "\n",
    "\n",
    "print(\"bboxes min x, min y:\", x_min_b,\",\", y_min_b)\n",
    "print(\"bboxes max x, max y:\", x_max_b, \",\", y_max_b)\n",
    "\n",
    "print(\"removed min x, min y:\", x_min_r,\",\",  y_min_r)\n",
    "print(\"removed max x, max y:\", x_max_r,\",\",  y_max_r)\n",
    "\n",
    "print(\"\\n-------------only bboxes-------------\")\n",
    "print(\"average\",object_num_b, \"objects x,y:\",sum_x_b/object_num_b,\",\", sum_y_b/object_num_b)\n",
    "\n",
    "print(\"\\n-------------including removed-------------\")\n",
    "print(\"average\",object_num_r + object_num_b, \"objects x,y:\",(sum_x_b+ sum_x_r)/(object_num_r+object_num_b) ,\",\", (sum_y_b+ sum_y_r)/(object_num_r+ object_num_b),\"\\n\" )\n"
   ],
   "outputs": [
    {
     "output_type": "stream",
     "name": "stdout",
     "text": [
      "resolution: 0.125 size: 120 x 120\n",
      "resolution: 0.125 size: 120 x 120\n",
      "number of images: 211\n",
      "-------------min max-------------\n",
      "bboxes min x, min y: 0.2014188976757474 , 0.255476978195329\n",
      "bboxes max x, max y: 19.72968638265182 , 25.507218474814387\n",
      "removed min x, min y: 0.02156052534441022 , 0.031098749905658973\n",
      "removed max x, max y: 20.241093673173054 , 29.349616218215644\n",
      "\n",
      "-------------only bboxes-------------\n",
      "average 8220 objects x,y: 3.4559424569304062 , 5.038084333233045\n",
      "\n",
      "-------------including removed-------------\n",
      "average 12444 objects x,y: 3.5660172370660317 , 5.452298006830909 \n",
      "\n"
     ]
    }
   ],
   "metadata": {}
  },
  {
   "cell_type": "markdown",
   "source": [
    "# 50m 1/4"
   ],
   "metadata": {}
  },
  {
   "cell_type": "code",
   "execution_count": 22,
   "source": [
    "print(\"resolution:\", res, \"size:\", int(964*res),\"x\",int(964*res) )\n",
    "print(\"resolution:\", res, \"size:\", int(964*res),\"x\",int(964*res) )\n",
    "print(\"number of images:\",image_num)\n",
    "print(\"-------------min max-------------\")\n",
    "\n",
    "\n",
    "print(\"bboxes min x, min y:\", x_min_b,\",\", y_min_b)\n",
    "print(\"bboxes max x, max y:\", x_max_b, \",\", y_max_b)\n",
    "\n",
    "print(\"removed min x, min y:\", x_min_r,\",\",  y_min_r)\n",
    "print(\"removed max x, max y:\", x_max_r,\",\",  y_max_r)\n",
    "\n",
    "print(\"\\n-------------only bboxes-------------\")\n",
    "print(\"average\",object_num_b, \"objects x,y:\",sum_x_b/object_num_b,\",\", sum_y_b/object_num_b)\n",
    "\n",
    "print(\"\\n-------------including removed-------------\")\n",
    "print(\"average\",object_num_r + object_num_b, \"objects x,y:\",(sum_x_b+ sum_x_r)/(object_num_r+object_num_b) ,\",\", (sum_y_b+ sum_y_r)/(object_num_r+ object_num_b),\"\\n\" )\n"
   ],
   "outputs": [
    {
     "output_type": "stream",
     "name": "stdout",
     "text": [
      "resolution: 0.03125 size: 30 x 30\n",
      "resolution: 0.03125 size: 30 x 30\n",
      "number of images: 263\n",
      "-------------min max-------------\n",
      "bboxes min x, min y: 0.2014188976757474 , 0.255476978195329\n",
      "bboxes max x, max y: 6.623205526437159 , 10.967883537379965\n",
      "removed min x, min y: 0.02156052534441022 , 0.031098749905658973\n",
      "removed max x, max y: 7.3511642361097636 , 12.181304868408702\n",
      "\n",
      "-------------only bboxes-------------\n",
      "average 3475 objects x,y: 1.6757922517673713 , 2.7522289196621412\n",
      "\n",
      "-------------including removed-------------\n",
      "average 4976 objects x,y: 1.7626604591607584 , 2.927132113591284 \n",
      "\n"
     ]
    }
   ],
   "metadata": {}
  },
  {
   "cell_type": "markdown",
   "source": [
    "# 30m 1/4"
   ],
   "metadata": {}
  },
  {
   "cell_type": "code",
   "execution_count": 25,
   "source": [
    "print(\"resolution:\", res, \"size:\", int(964*res),\"x\",int(964*res) )\n",
    "print(\"resolution:\", res, \"size:\", int(964*res),\"x\",int(964*res) )\n",
    "print(\"number of images:\",image_num)\n",
    "print(\"-------------min max-------------\")\n",
    "\n",
    "\n",
    "print(\"bboxes min x, min y:\", x_min_b,\",\", y_min_b)\n",
    "print(\"bboxes max x, max y:\", x_max_b, \",\", y_max_b)\n",
    "\n",
    "print(\"removed min x, min y:\", x_min_r,\",\",  y_min_r)\n",
    "print(\"removed max x, max y:\", x_max_r,\",\",  y_max_r)\n",
    "\n",
    "print(\"\\n-------------only bboxes-------------\")\n",
    "print(\"average\",object_num_b, \"objects x,y:\",sum_x_b/object_num_b,\",\", sum_y_b/object_num_b)\n",
    "\n",
    "print(\"\\n-------------including removed-------------\")\n",
    "print(\"average\",object_num_r + object_num_b, \"objects x,y:\",(sum_x_b+ sum_x_r)/(object_num_r+object_num_b) ,\",\", (sum_y_b+ sum_y_r)/(object_num_r+ object_num_b),\"\\n\" )\n"
   ],
   "outputs": [
    {
     "output_type": "stream",
     "name": "stdout",
     "text": [
      "resolution: 0.03125 size: 30 x 30\n",
      "resolution: 0.03125 size: 30 x 30\n",
      "number of images: 152\n",
      "-------------min max-------------\n",
      "bboxes min x, min y: 0.2014188976757474 , 0.255476978195329\n",
      "bboxes max x, max y: 8.004921269824742 , 18.77722785151203\n",
      "removed min x, min y: 0.02156052534441022 , 0.031098749905658973\n",
      "removed max x, max y: 8.438435784434859 , 29.349616218215644\n",
      "\n",
      "-------------only bboxes-------------\n",
      "average 3897 objects x,y: 1.8210789734728303 , 2.9592319274362535\n",
      "\n",
      "-------------including removed-------------\n",
      "average 6090 objects x,y: 2.0775454956474397 , 3.6771612531638995 \n",
      "\n"
     ]
    }
   ],
   "metadata": {}
  }
 ],
 "metadata": {
  "orig_nbformat": 4,
  "language_info": {
   "name": "python",
   "version": "3.9.6",
   "mimetype": "text/x-python",
   "codemirror_mode": {
    "name": "ipython",
    "version": 3
   },
   "pygments_lexer": "ipython3",
   "nbconvert_exporter": "python",
   "file_extension": ".py"
  },
  "kernelspec": {
   "name": "python3",
   "display_name": "Python 3.9.6 64-bit ('pytorch': conda)"
  },
  "interpreter": {
   "hash": "76727f2eff96316d6b88d6fd7f1c303bfe321b34582b48e31fd70ecd430eaf77"
  }
 },
 "nbformat": 4,
 "nbformat_minor": 2
}
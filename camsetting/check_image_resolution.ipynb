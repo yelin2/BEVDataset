{
 "cells": [
  {
   "cell_type": "code",
   "execution_count": 1,
   "source": [
    "import numpy as np\n",
    "import glob\n",
    "import cv2\n",
    "import torch\n",
    "import random\n",
    "from PIL import Image\n",
    "import os\n",
    "from resolution_pixel_cal import __getitem__\n",
    "import matplotlib.pyplot as plt"
   ],
   "outputs": [],
   "metadata": {}
  },
  {
   "cell_type": "code",
   "execution_count": 4,
   "source": [
    "res = 1/4\n",
    "img_files = glob.glob('./30m/out_rgb_bbox_vehicle/*.png')\n",
    "image_num = len(img_files)\n",
    "print(image_num)"
   ],
   "outputs": [
    {
     "output_type": "stream",
     "name": "stdout",
     "text": [
      "152\n"
     ]
    }
   ],
   "metadata": {}
  },
  {
   "cell_type": "code",
   "execution_count": 9,
   "source": [
    "index = 100\n",
    "data, r_data, image = __getitem__(index, res, img_files)\n",
    "print(img_files[index])\n",
    "# ----- image save ------- #\n",
    "for i in range(len(data)):\n",
    "    \n",
    "    start = (int(data[i][0][0]), int(data[i][0][1]))\n",
    "    end = (int(data[i][1][0]), int(data[i][1][1]))\n",
    "    cv2.rectangle(image, start,end, color = (255, 0, 255), thickness = 1)\n",
    "\n",
    "for i in range(len(r_data)):\n",
    "    start = (int(r_data[i][0][0]), int(r_data[i][0][1]))\n",
    "    end = (int(r_data[i][1][0]), int(r_data[i][1][1]))\n",
    "    cv2.rectangle(image, start,end, color = (0, 255, 0), thickness = 1)\n",
    "cv2.imshow(str(img_files[index]), image)\n",
    "cv2.waitKey(0)\n",
    "cv2.destroyAllWindows()"
   ],
   "outputs": [
    {
     "output_type": "stream",
     "name": "stdout",
     "text": [
      "./30m/out_rgb_bbox_vehicle/063880.png\n"
     ]
    }
   ],
   "metadata": {}
  }
 ],
 "metadata": {
  "orig_nbformat": 4,
  "language_info": {
   "name": "python",
   "version": "3.9.6",
   "mimetype": "text/x-python",
   "codemirror_mode": {
    "name": "ipython",
    "version": 3
   },
   "pygments_lexer": "ipython3",
   "nbconvert_exporter": "python",
   "file_extension": ".py"
  },
  "kernelspec": {
   "name": "python3",
   "display_name": "Python 3.9.6 64-bit ('pytorch': conda)"
  },
  "interpreter": {
   "hash": "76727f2eff96316d6b88d6fd7f1c303bfe321b34582b48e31fd70ecd430eaf77"
  }
 },
 "nbformat": 4,
 "nbformat_minor": 2
}
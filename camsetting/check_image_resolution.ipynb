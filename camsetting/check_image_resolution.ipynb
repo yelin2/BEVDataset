{
 "cells": [
  {
   "cell_type": "code",
   "execution_count": 18,
   "metadata": {},
   "outputs": [],
   "source": [
    "import numpy as np\n",
    "import glob\n",
    "import cv2\n",
    "import torch\n",
    "import random\n",
    "from PIL import Image\n",
    "import os\n",
    "from resolution_pixel_cal import __getitem__\n",
    "import matplotlib.pyplot as plt"
   ]
  },
  {
   "cell_type": "code",
   "execution_count": 20,
   "metadata": {},
   "outputs": [
    {
     "name": "stdout",
     "output_type": "stream",
     "text": [
      "263\n"
     ]
    }
   ],
   "source": [
    "img_files = glob.glob('./50m/out_rgb_bbox_vehicle/*.png')\n",
    "image_num = len(img_files)\n",
    "print(image_num)"
   ]
  },
  {
   "cell_type": "code",
   "execution_count": 25,
   "metadata": {},
   "outputs": [
    {
     "name": "stdout",
     "output_type": "stream",
     "text": [
      "./50m/out_rgb_bbox_vehicle/013407.png\n"
     ]
    }
   ],
   "source": [
    "index = 100\n",
    "res = 1/32\n",
    "\n",
    "data, r_data, image = __getitem__(index, res, img_files)\n",
    "print(img_files[index])\n",
    "# ----- image save ------- #\n",
    "for i in range(len(data)):\n",
    "    \n",
    "    start = (int(data[i][0][0]), int(data[i][0][1]))\n",
    "    end = (int(data[i][1][0]), int(data[i][1][1]))\n",
    "    cv2.rectangle(image, start,end, color = (255, 0, 255), thickness = 1)\n",
    "\n",
    "for i in range(len(r_data)):\n",
    "    start = (int(r_data[i][0][0]), int(r_data[i][0][1]))\n",
    "    end = (int(r_data[i][1][0]), int(r_data[i][1][1]))\n",
    "    cv2.rectangle(image, start,end, color = (0, 255, 0), thickness = 1)\n",
    "cv2.imshow(str(img_files[index]), image)\n",
    "cv2.waitKey(0)\n",
    "cv2.destroyAllWindows()"
   ]
  },
  {
   "cell_type": "code",
   "execution_count": null,
   "metadata": {},
   "outputs": [],
   "source": []
  },
  {
   "cell_type": "code",
   "execution_count": null,
   "metadata": {},
   "outputs": [],
   "source": []
  }
 ],
 "metadata": {
  "interpreter": {
   "hash": "76727f2eff96316d6b88d6fd7f1c303bfe321b34582b48e31fd70ecd430eaf77"
  },
  "kernelspec": {
   "display_name": "Python 3.9.6 64-bit ('pytorch': conda)",
   "name": "python3"
  },
  "language_info": {
   "codemirror_mode": {
    "name": "ipython",
    "version": 3
   },
   "file_extension": ".py",
   "mimetype": "text/x-python",
   "name": "python",
   "nbconvert_exporter": "python",
   "pygments_lexer": "ipython3",
   "version": "3.8.12"
  },
  "orig_nbformat": 4
 },
 "nbformat": 4,
 "nbformat_minor": 2
}
